{
 "cells": [
  {
   "cell_type": "markdown",
   "metadata": {},
   "source": [
    "<h1><b> Queues</b></h1>\n",
    "<br>Queue menggunakan metode pengurutan \n",
    "FIFO (First In, First Out) yaitu data yang masuk pertama maka data tersebut juga keluar pertama kali</p>"
   ]
  },
  {
   "cell_type": "markdown",
   "metadata": {},
   "source": [
    "<h1><b> Algoritma</b></h1>\n",
    "Berikut ini algoritma program dalam permainan temukan orang :\n",
    "<br>1.Inputkan nama yang ikut permainan dan masukan pada Queue\n",
    "<br>2.Inputkan nama yang ingin dicari.\n",
    "<br>3.Buat perulangan untuk menemukan orang yang ingin dicari di Queue. \n",
    " <br>(A)Jika nama tersebut berada di kepala maka nama tersebut ditemukan. <br>(B) jika tidak maka nama yang berada di kepala di ambil dan dimasukan lagi di Queue.\n",
    "<br>4.Begitu seterusnya sampai orang yang dicari berada di Kepala Queue.</p>"
   ]
  },
  {
   "cell_type": "code",
   "execution_count": null,
   "metadata": {},
   "outputs": [],
   "source": [
    "<h1><b>Class Queue</b></h1>\n"
   ]
  },
  {
   "cell_type": "code",
   "execution_count": null,
   "metadata": {},
   "outputs": [],
   "source": [
    "def createQueue():\n",
    "    q=[]\n",
    "    return()\n",
    "def enqueue(q,data):\n",
    "    q.insert(0,data)\n",
    "    return(q)\n",
    "def dequeue(q):\n",
    "    data=q.pop()\n",
    "    return(data)\n",
    "def isepty(q):\n",
    "    return(q==[])\n",
    "def size(q):\n",
    "    return(len(q))\n",
    "\n"
   ]
  }
 ],
 "metadata": {
  "kernelspec": {
   "display_name": "Python 3",
   "language": "python",
   "name": "python3"
  },
  "language_info": {
   "codemirror_mode": {
    "name": "ipython",
    "version": 3
   },
   "file_extension": ".py",
   "mimetype": "text/x-python",
   "name": "python",
   "nbconvert_exporter": "python",
   "pygments_lexer": "ipython3",
   "version": "3.6.5"
  }
 },
 "nbformat": 4,
 "nbformat_minor": 2
}
