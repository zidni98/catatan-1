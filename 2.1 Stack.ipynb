{
 "cells": [
  {
   "cell_type": "markdown",
   "metadata": {},
   "source": [
    "<b> perbedaan Variabel dengan List</b>\n",
    "<br><p>Variabel berdiri independen dan list adalah sebuah wadah untuk menampung banyak data dalam satu wadah yang sama\n",
    "<br>dan mempermudah pencarian data(gabungan dari beberapa variabel)</p>\n",
    "\n",
    "<p><b> Struktur data pada linier</b>\n",
    "<br><b>Stacks</b> sebuah proses penambahan data dan penggambilan data dari ujung ujung sebuah data(LIFO=last in fist out).\n",
    "    <br><b>Queues</b> sebuah proses pengambilan dan penambahan  data berdasarkan antrian(FIFO=firs in fist out)\n",
    "    <br> <b>lists= -</b></p>\n"
   ]
  },
  {
   "cell_type": "markdown",
   "metadata": {},
   "source": [
    "<h1><b> Operasi Stack</b></h1>"
   ]
  },
  {
   "cell_type": "markdown",
   "metadata": {},
   "source": [
    "<p><b>-Stack()</b>=membuat suatu stack baru yang kosong. Tidak memerlukan parameter dan mengembalikan suatu stack kosong.\n",
    "    <br><b>-pust(data)</b>=menambahkan suatu item baru ke atas (top) dari stack. Perlu item dan tidak mengembalikan apapun.\n",
    "    <br><b>-pop()</b>=menghapus item teratas dari stack. Tidak perlu parameter dan mengembalikan item. Stack berubah\n",
    "    <br><b>-peek()</b>=mengembalikan top item dari stack tetapi tidak menghapusnya. Tidak memerlukan parameter dan stack tidak berubah.\n",
    "    <br><b>-isEmty()</b>=memeriksa apakah stack dalam keadaan kosong. Tidak memerlukan parameter dan mengembalikan nilai boolean.\n",
    "    <br><b>-size()</b>=mengembalikan jumlah item di dalam stack. Tidak memerlukan parameter dan mengembalikan suatu integer. </p>"
   ]
  },
  {
   "cell_type": "markdown",
   "metadata": {},
   "source": [
    "<p><h4><b>Class Stack</b></h4></p>\n"
   ]
  },
  {
   "cell_type": "code",
   "execution_count": null,
   "metadata": {},
   "outputs": [],
   "source": [
    "def stack():\n",
    "    s=[]\n",
    "    return (s)\n",
    "def push(s,data):\n",
    "    s.append(data)\n",
    "def pop(s):\n",
    "    data = s.pop()\n",
    "    return(data)\n",
    "def peek(s):\n",
    "    return(s[len(s)-1])\n",
    "def isEmpty(s):\n",
    "    return(s==[])\n",
    "def size(s):\n",
    "    return(len(s))"
   ]
  },
  {
   "cell_type": "code",
   "execution_count": null,
   "metadata": {},
   "outputs": [],
   "source": [
    "kata =input(\"Masukkan kata :\")\n",
    "st = stack()\n",
    "hasil = ''\n",
    "for i in range(len(kata)):\n",
    "    push(st,kata[i])\n",
    "for i in range(len(kata)):\n",
    "    hasil = hasil+pop(st)\n",
    "print(hasil)"
   ]
  },
  {
   "cell_type": "code",
   "execution_count": null,
   "metadata": {},
   "outputs": [],
   "source": [
    "bilangan =10\n",
    "hasilbagi=bilangan\n",
    "st=stack()\n",
    "while hasilbagi>0:\n",
    "    temp=hasilbagi%2\n",
    "    pust(st,temp)\n",
    "    hasilbagi=hasilbagi//2\n",
    "    \n",
    "temp=''\n",
    "while not (isEmpty(st)):\n",
    "    temp=temp+str(pop(st))\n",
    "print(temp)"
   ]
  },
  {
   "cell_type": "markdown",
   "metadata": {},
   "source": [
    "<p><h4><b>Delimiter</b></h4></p> mengecek apakah sudah ada pasangan/menetukan susunannya apakah sudah benar atau belum dengan membaca karakter yang ada kalimat mat </p>\n"
   ]
  },
  {
   "cell_type": "markdown",
   "metadata": {},
   "source": [
    "<b><h4> Expresi Aritmatik</h4></b>"
   ]
  },
  {
   "cell_type": "markdown",
   "metadata": {},
   "source": [
    "<p><b>-Infix</b> adalah cara penulisan yang meletakan operator di tengah-tangah antara 2 operand jadi kurung sangat menentukan posisi.\n",
    "<br>Contoh Infix :\n",
    "<br>A + B\n",
    "<br>( A - B ) * C\n",
    "<br><b>-Prefix</b> adalah cara penulisan  operator disebelah kiri 2 operand .\n",
    "<br>Contoh Prefix :\n",
    "<br>+ A B\n",
    "<br>* - A B C\n",
    "<br><b>-Posfix</b> adalah cara penulisan yang meletakan operator disebelah kanan 2 operand .\n",
    "<br>Contoh Postfix :\n",
    "<br>A B +\n",
    "<br>A B - C *"
   ]
  },
  {
   "cell_type": "code",
   "execution_count": null,
   "metadata": {},
   "outputs": [],
   "source": []
  }
 ],
 "metadata": {
  "kernelspec": {
   "display_name": "Python 3",
   "language": "python",
   "name": "python3"
  },
  "language_info": {
   "codemirror_mode": {
    "name": "ipython",
    "version": 3
   },
   "file_extension": ".py",
   "mimetype": "text/x-python",
   "name": "python",
   "nbconvert_exporter": "python",
   "pygments_lexer": "ipython3",
   "version": "3.6.5"
  }
 },
 "nbformat": 4,
 "nbformat_minor": 2
}
